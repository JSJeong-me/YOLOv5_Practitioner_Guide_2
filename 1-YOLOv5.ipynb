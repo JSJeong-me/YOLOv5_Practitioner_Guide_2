{
  "nbformat": 4,
  "nbformat_minor": 0,
  "metadata": {
    "colab": {
      "name": "Untitled0.ipynb",
      "provenance": [],
      "machine_shape": "hm",
      "authorship_tag": "ABX9TyOsLkPAJC9YvDp5o0mTd2Yf",
      "include_colab_link": true
    },
    "kernelspec": {
      "name": "python3",
      "display_name": "Python 3"
    },
    "language_info": {
      "name": "python"
    },
    "accelerator": "GPU"
  },
  "cells": [
    {
      "cell_type": "markdown",
      "metadata": {
        "id": "view-in-github",
        "colab_type": "text"
      },
      "source": [
        "<a href=\"https://colab.research.google.com/github/JSJeong-me/YOLOv5_Practitioner_Guide_2/blob/main/1-YOLOv5.ipynb\" target=\"_parent\"><img src=\"https://colab.research.google.com/assets/colab-badge.svg\" alt=\"Open In Colab\"/></a>"
      ]
    },
    {
      "cell_type": "code",
      "metadata": {
        "id": "BkBaKWeOPXep"
      },
      "source": [
        "pip install -r https://raw.githubusercontent.com/ultralytics/yolov5/master/requirements.txt"
      ],
      "execution_count": null,
      "outputs": []
    },
    {
      "cell_type": "code",
      "metadata": {
        "id": "-joA4toHRJdn"
      },
      "source": [
        "import torch\n",
        "import cv2\n",
        "import numpy as np\n",
        "from google.colab.patches import cv2_imshow"
      ],
      "execution_count": null,
      "outputs": []
    },
    {
      "cell_type": "code",
      "metadata": {
        "id": "pI8wjBxKRNrx"
      },
      "source": [
        "# Model\n",
        "model = torch.hub.load('ultralytics/yolov5', 'yolov5s')"
      ],
      "execution_count": null,
      "outputs": []
    },
    {
      "cell_type": "code",
      "metadata": {
        "id": "M4Ac2hlhRvgC"
      },
      "source": [
        "img = cv2.imread('traffic-signal-1.jpg')[..., ::-1]"
      ],
      "execution_count": null,
      "outputs": []
    },
    {
      "cell_type": "code",
      "metadata": {
        "id": "kqnzAwgGZXQT"
      },
      "source": [
        "cv2_imshow(img)"
      ],
      "execution_count": null,
      "outputs": []
    },
    {
      "cell_type": "code",
      "metadata": {
        "id": "WAQlNHPYaSwh"
      },
      "source": [
        "model.classes =[9]"
      ],
      "execution_count": null,
      "outputs": []
    },
    {
      "cell_type": "code",
      "metadata": {
        "id": "dNfqk9epammb"
      },
      "source": [
        "model.conf = 0.7"
      ],
      "execution_count": null,
      "outputs": []
    },
    {
      "cell_type": "code",
      "metadata": {
        "id": "zNok5SahZnQ2"
      },
      "source": [
        "results = model(img, size = 720)"
      ],
      "execution_count": null,
      "outputs": []
    },
    {
      "cell_type": "code",
      "metadata": {
        "id": "8RuVAlKLZuCa"
      },
      "source": [
        "results.save()"
      ],
      "execution_count": null,
      "outputs": []
    },
    {
      "cell_type": "code",
      "metadata": {
        "id": "MGaAIgDda1iq"
      },
      "source": [
        "crop_image = results.pandas().xyxy[0]"
      ],
      "execution_count": null,
      "outputs": []
    },
    {
      "cell_type": "code",
      "metadata": {
        "id": "KWVGNBXxa_qu"
      },
      "source": [
        "crop_image"
      ],
      "execution_count": null,
      "outputs": []
    },
    {
      "cell_type": "code",
      "metadata": {
        "id": "NavmCwJ3bFtG"
      },
      "source": [
        "results.pandas().xyxy[0].sort_values('xmin')"
      ],
      "execution_count": null,
      "outputs": []
    },
    {
      "cell_type": "code",
      "metadata": {
        "id": "DhQVvG8YbT_8"
      },
      "source": [
        "x1, y1, x2, y2 = int(crop_image.iloc[1, 0]), int(crop_image.iloc[1, 1]), int(crop_image.iloc[1, 2]), int(crop_image.iloc[1, 3])"
      ],
      "execution_count": null,
      "outputs": []
    },
    {
      "cell_type": "code",
      "metadata": {
        "id": "v9BggFvAb4Rx"
      },
      "source": [
        "signal = img[y1:y2, x1:x2]"
      ],
      "execution_count": null,
      "outputs": []
    },
    {
      "cell_type": "code",
      "metadata": {
        "id": "8Tg0cKeacAio"
      },
      "source": [
        "cv2_imshow(signal)"
      ],
      "execution_count": null,
      "outputs": []
    },
    {
      "cell_type": "code",
      "metadata": {
        "id": "CWXw2fxAduse"
      },
      "source": [
        "hsv_frame = cv2.cvtColor(signal, cv2.COLOR_RGB2HSV)"
      ],
      "execution_count": null,
      "outputs": []
    },
    {
      "cell_type": "code",
      "metadata": {
        "id": "6NtD8VZadey-"
      },
      "source": [
        "# Red color\n",
        "low_red = np.array([1, 220, 90]) # 161,155,84 \n",
        "high_red = np.array([179, 255, 255])\n",
        "red_mask = cv2.inRange(hsv_frame, low_red, high_red)\n",
        "red = cv2.bitwise_and(signal, signal, mask=red_mask)\n",
        "\n",
        "# Blue color\n",
        "low_blue = np.array([94, 80, 2])\n",
        "high_blue = np.array([126, 255, 255])\n",
        "blue_mask = cv2.inRange(hsv_frame, low_blue, high_blue)\n",
        "blue = cv2.bitwise_and(signal, signal, mask=blue_mask)"
      ],
      "execution_count": null,
      "outputs": []
    },
    {
      "cell_type": "code",
      "metadata": {
        "id": "JHPlAzzBdkfc"
      },
      "source": [
        "l_h, u_h = 0,202\n",
        "l_s, u_s = 40, 227\n",
        "l_v, u_v = 206, 255\n",
        "\n",
        "l_yellow = np.array([l_h, l_s, l_v])\n",
        "u_yellow = np.array([u_h, u_s, u_v])\n",
        "yellow_mask = cv2.inRange(hsv_frame, l_yellow, u_yellow)\n",
        "yellow = cv2.bitwise_and(signal, signal, mask=yellow_mask)"
      ],
      "execution_count": null,
      "outputs": []
    },
    {
      "cell_type": "code",
      "metadata": {
        "id": "UzcM5QMhd-0n"
      },
      "source": [
        "cv2_imshow(blue)"
      ],
      "execution_count": null,
      "outputs": []
    },
    {
      "cell_type": "code",
      "metadata": {
        "id": "7zP8CnsCeAJ8"
      },
      "source": [
        "cv2_imshow(red)"
      ],
      "execution_count": null,
      "outputs": []
    },
    {
      "cell_type": "code",
      "metadata": {
        "id": "im2DJAIqdm0Y"
      },
      "source": [
        "cv2_imshow(yellow)"
      ],
      "execution_count": null,
      "outputs": []
    }
  ]
}